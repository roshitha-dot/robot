{
 "cells": [
  {
   "cell_type": "code",
   "execution_count": 2,
   "id": "e0a38529-534c-4f7b-91c3-df1f79eedd0f",
   "metadata": {},
   "outputs": [],
   "source": [
    "class Robot:\n",
    "    def __init__(self,tom,jerry):\n",
    "        self.name = tom\n",
    "        self.name1 = jerry\n",
    "    def Showinfo(self):\n",
    "        print(self.name)\n",
    "        print(self.name1)"
   ]
  },
  {
   "cell_type": "code",
   "execution_count": null,
   "id": "6cee24bd-3ebb-482b-9f2e-e10dc11b9515",
   "metadata": {},
   "outputs": [],
   "source": []
  }
 ],
 "metadata": {
  "kernelspec": {
   "display_name": "Python 3 (ipykernel)",
   "language": "python",
   "name": "python3"
  },
  "language_info": {
   "codemirror_mode": {
    "name": "ipython",
    "version": 3
   },
   "file_extension": ".py",
   "mimetype": "text/x-python",
   "name": "python",
   "nbconvert_exporter": "python",
   "pygments_lexer": "ipython3",
   "version": "3.12.4"
  }
 },
 "nbformat": 4,
 "nbformat_minor": 5
}
